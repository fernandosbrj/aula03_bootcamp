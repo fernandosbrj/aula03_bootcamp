{
 "cells": [
  {
   "cell_type": "markdown",
   "metadata": {},
   "source": [
    "##### Exercício 1: Verificação de Qualidade de Dados\n",
    "\n",
    "Você está analisando um conjunto de dados de vendas e precisa garantir que todos os registros tenham valores positivos para `quantidade` e `preço`. Escreva um programa que verifique esses campos e imprima \"Dados válidos\" se ambos forem positivos ou \"Dados inválidos\" caso contrário."
   ]
  },
  {
   "cell_type": "code",
   "execution_count": 1,
   "metadata": {},
   "outputs": [
    {
     "name": "stdout",
     "output_type": "stream",
     "text": [
      "Dados Válidos\n"
     ]
    }
   ],
   "source": [
    "quantidade = 10\n",
    "preco = 5\n",
    "\n",
    "if quantidade > 0 and preco > 0:\n",
    "    print(\"Dados Válidos\")\n",
    "else:\n",
    "    print(\"Dados inválidos\")"
   ]
  },
  {
   "cell_type": "markdown",
   "metadata": {},
   "source": [
    "##### Exercício 2: Classificação de Dados de Sensor\n",
    "\n",
    "Imagine que você está trabalhando com dados de sensores IoT. Os dados incluem medições de temperatura. Você precisa classificar cada leitura como 'Baixa', 'Normal' ou 'Alta'. Considerando que:\n",
    "\n",
    "- Temperatura < 18°C é 'Baixa'\n",
    "- Temperatura >= 18°C e <= 26°C é 'Normal'\n",
    "- Temperatura > 26°C é 'Alta'"
   ]
  },
  {
   "cell_type": "code",
   "execution_count": 8,
   "metadata": {},
   "outputs": [
    {
     "name": "stdout",
     "output_type": "stream",
     "text": [
      "Baixa\n"
     ]
    }
   ],
   "source": [
    "temperatura = 17\n",
    "\n",
    "if temperatura > 26:\n",
    "    print(\"Alta\")\n",
    "elif 18 <= temperatura <= 26:\n",
    "    print(\"Normal\")\n",
    "else:\n",
    "    print(\"Baixa\")"
   ]
  },
  {
   "cell_type": "markdown",
   "metadata": {},
   "source": [
    "##### Exercício 3: Filtragem de Logs por Severidade\n",
    "\n",
    "Você está analisando logs de uma aplicação e precisa filtrar mensagens com severidade 'ERROR'. Dado um registro de log em formato de dicionário como log = {'timestamp': '2021-06-23 10:00:00', 'level': 'ERROR', 'message': 'Falha na conexão'}, escreva um programa que imprima a mensagem se a severidade for 'ERROR'."
   ]
  },
  {
   "cell_type": "code",
   "execution_count": 9,
   "metadata": {},
   "outputs": [
    {
     "name": "stdout",
     "output_type": "stream",
     "text": [
      "ERROR\n"
     ]
    }
   ],
   "source": [
    "log = {\n",
    "    'timestamp': '2021-06-23 10:00:00', \n",
    "    'level': 'ERROR', \n",
    "    'message': 'Falha na conexão'\n",
    "    }\n",
    "\n",
    "if log['level'] == \"ERROR\":\n",
    "    print(\"ERROR\")"
   ]
  },
  {
   "cell_type": "markdown",
   "metadata": {},
   "source": [
    "##### Exercício 4: Validação de Dados de Entrada\n",
    "Antes de processar os dados de usuários em um sistema de recomendação, você precisa garantir que cada usuário tenha idade entre 18 e 65 anos e tenha fornecido um email válido. Escreva um programa que valide essas condições e imprima \"Dados de usuário válidos\" ou o erro específico encontrado."
   ]
  },
  {
   "cell_type": "code",
   "execution_count": 11,
   "metadata": {},
   "outputs": [
    {
     "name": "stdout",
     "output_type": "stream",
     "text": [
      "Dados de usuário válidos\n"
     ]
    }
   ],
   "source": [
    "idade = 25\n",
    "email = \"usuario@dominio.com\"\n",
    "\n",
    "if not 18 <= idade <= 65:\n",
    "    print(\"Idades permitidas apenas entre 18 e 65 anos\") \n",
    "elif \"@\" not in email or \".\" not in email:\n",
    "    print(\"Email inválido\")\n",
    "else:\n",
    "    print(\"Dados de usuário válidos\")"
   ]
  },
  {
   "cell_type": "markdown",
   "metadata": {},
   "source": [
    "##### Exercício 5: Detecção de Anomalias em Dados de Transações\n",
    "Você está trabalhando em um sistema de detecção de fraude e precisa identificar transações suspeitas. Uma transação é considerada suspeita se o valor for superior a R$ 10.000 ou se ocorrer fora do horário comercial (antes das 9h ou depois das 18h). Dada uma transação como transacao = {'valor': 12000, 'hora': 20}, verifique se ela é suspeita."
   ]
  },
  {
   "cell_type": "code",
   "execution_count": 15,
   "metadata": {},
   "outputs": [
    {
     "name": "stdout",
     "output_type": "stream",
     "text": [
      "Transação normal\n"
     ]
    }
   ],
   "source": [
    "transacao = {'valor': 1000, 'hora': 20}\n",
    "\n",
    "limite_valor = 10000\n",
    "hora_limite_inf = 9\n",
    "hora_limite_sup = 20\n",
    "\n",
    "if (transacao['valor'] > limite_valor) or not (hora_limite_inf <= transacao['hora'] <= hora_limite_sup):\n",
    "    print(\"Transação não permitida. Acima do limite máximo ou fora do horário permitido\")\n",
    "else:\n",
    "    print(\"Transação normal\")"
   ]
  },
  {
   "cell_type": "markdown",
   "metadata": {},
   "source": [
    "##### 6. Contagem de Palavras em Textos\n",
    "Objetivo: Dado um texto, contar quantas vezes cada palavra única aparece nele."
   ]
  },
  {
   "cell_type": "code",
   "execution_count": 17,
   "metadata": {},
   "outputs": [
    {
     "data": {
      "text/plain": [
       "{'você': 2,\n",
       " 'pagou': 2,\n",
       " 'com': 2,\n",
       " 'traição': 2,\n",
       " 'a': 2,\n",
       " 'quem': 1,\n",
       " 'sempre': 1,\n",
       " 'lhe': 1,\n",
       " 'deu': 1,\n",
       " 'mão': 1}"
      ]
     },
     "execution_count": 17,
     "metadata": {},
     "output_type": "execute_result"
    }
   ],
   "source": [
    "texto = \"você pagou com traição a quem sempre lhe deu a mão, você pagou com traição\"\n",
    "\n",
    "lista_palavras = texto.strip().replace(\",\",\"\").split()\n",
    "contagem_palavras = {}\n",
    "\n",
    "for palavra in lista_palavras:\n",
    "    if palavra not in contagem_palavras.keys():\n",
    "        contagem_palavras[palavra] = 1\n",
    "    else:\n",
    "        contagem_palavras[palavra] += 1\n",
    "\n",
    "contagem_palavras"
   ]
  },
  {
   "cell_type": "markdown",
   "metadata": {},
   "source": [
    "##### 7. Normalização de Dados\n",
    "Objetivo: Normalizar uma lista de números para que fiquem na escala de 0 a 1."
   ]
  },
  {
   "cell_type": "code",
   "execution_count": 22,
   "metadata": {},
   "outputs": [
    {
     "name": "stdout",
     "output_type": "stream",
     "text": [
      "[0.0, 0.11, 0.22, 0.44, 0.6, 0.67, 0.8, 1.0]\n"
     ]
    }
   ],
   "source": [
    "lista_numeros = [1,2,3,5,6.4,7,8.2,10]\n",
    "\n",
    "minimo = min(lista_numeros)\n",
    "maximo = max(lista_numeros)\n",
    "\n",
    "lista_normalizada = []\n",
    "\n",
    "for numero in lista_numeros:\n",
    "    numero_normalizado = round((numero - minimo) / (maximo - minimo),2)\n",
    "    lista_normalizada.append(numero_normalizado)\n",
    "\n",
    "print(lista_normalizada)"
   ]
  },
  {
   "cell_type": "markdown",
   "metadata": {},
   "source": [
    "##### 8. Filtragem de Dados Faltantes\n",
    "Objetivo: Dada uma lista de dicionários representando dados de usuários, filtrar aqueles que têm um campo específico faltando."
   ]
  },
  {
   "cell_type": "code",
   "execution_count": 23,
   "metadata": {},
   "outputs": [
    {
     "name": "stdout",
     "output_type": "stream",
     "text": [
      "[{'nome': 'Bob', 'email': ''}]\n"
     ]
    }
   ],
   "source": [
    "usuarios = [\n",
    "    {\"nome\": \"Alice\", \"email\": \"alice@example.com\"},\n",
    "    {\"nome\": \"Bob\", \"email\": \"\"},\n",
    "    {\"nome\": \"Carol\", \"email\": \"carol@example.com\"}\n",
    "]\n",
    "lista_dados_faltantes = []\n",
    "\n",
    "for usuario in usuarios:\n",
    "    if usuario['nome'] == \"\" or usuario['email'] == \"\":\n",
    "        lista_dados_faltantes.append(usuario)\n",
    "\n",
    "print(lista_dados_faltantes)\n"
   ]
  },
  {
   "cell_type": "markdown",
   "metadata": {},
   "source": [
    "##### 9. Extração de Subconjuntos de Dados\n",
    "Objetivo: Dada uma lista de números, extrair apenas aqueles que são pares."
   ]
  },
  {
   "cell_type": "code",
   "execution_count": 24,
   "metadata": {},
   "outputs": [
    {
     "name": "stdout",
     "output_type": "stream",
     "text": [
      "[2, 6, 8, 10]\n"
     ]
    }
   ],
   "source": [
    "lista_numeros = [2,1,3,5,6,8,9,10]\n",
    "lista_pares = []\n",
    "\n",
    "for numero in lista_numeros:\n",
    "    if (numero % 2 == 0):\n",
    "        lista_pares.append(numero)\n",
    "\n",
    "print(lista_pares)\n"
   ]
  },
  {
   "cell_type": "markdown",
   "metadata": {},
   "source": [
    "##### 10. Agregação de Dados por Categoria\n",
    "Objetivo: Dado um conjunto de registros de vendas, calcular o total de vendas por categoria."
   ]
  },
  {
   "cell_type": "code",
   "execution_count": 27,
   "metadata": {},
   "outputs": [
    {
     "name": "stdout",
     "output_type": "stream",
     "text": [
      "{'eletrônicos': 1200, 'livros': 400}\n"
     ]
    }
   ],
   "source": [
    "vendas = [\n",
    "    {\"categoria\": \"eletrônicos\", \"valor\": 1200},\n",
    "    {\"categoria\": \"livros\", \"valor\": 200},\n",
    "    {\"categoria\": \"eletrônicos\", \"valor\": 800}\n",
    "]\n",
    "\n",
    "total_por_categoria = {}\n",
    "\n",
    "for venda in vendas:\n",
    "    if venda['categoria'] not in total_por_categoria:\n",
    "\n",
    "        categoria = venda[\"categoria\"]\n",
    "        valor = venda['valor']\n",
    "\n",
    "        total_por_categoria[categoria] = valor\n",
    "    else:\n",
    "        total_por_categoria[categoria] += valor\n",
    "\n",
    "print(total_por_categoria)"
   ]
  },
  {
   "cell_type": "markdown",
   "metadata": {},
   "source": [
    "##### 11. Leitura de Dados até Flag\n",
    "Objetivo: Ler dados de entrada até que uma palavra-chave específica (\"sair\") seja fornecida."
   ]
  },
  {
   "cell_type": "code",
   "execution_count": null,
   "metadata": {},
   "outputs": [
    {
     "name": "stdout",
     "output_type": "stream",
     "text": [
      "['oi', 'meu', 'nome', 'é ', 'fernando']\n"
     ]
    }
   ],
   "source": [
    "dados = []\n",
    "entrada = \"\"\n",
    "while entrada.lower() != \"sair\":\n",
    "    entrada = input(\"Digite um valor (ou 'sair' para terminar): \")\n",
    "    if entrada != 'sair':\n",
    "        dados.append(entrada.strip())\n",
    "\n",
    "print(dados)\n"
   ]
  },
  {
   "cell_type": "markdown",
   "metadata": {},
   "source": [
    "##### 12. Validação de Entrada\n",
    "Objetivo: Solicitar ao usuário um número dentro de um intervalo específico até que a entrada seja válida."
   ]
  },
  {
   "cell_type": "code",
   "execution_count": 9,
   "metadata": {},
   "outputs": [
    {
     "name": "stdout",
     "output_type": "stream",
     "text": [
      "número correto digitado: 6.0\n",
      "Outros valores: [0.0, 25.0, 36.0]\n"
     ]
    }
   ],
   "source": [
    "lim_inferior = 1\n",
    "lim_superior = 10\n",
    "\n",
    "entrada = lim_inferior - 1\n",
    "lista_valores = []\n",
    "\n",
    "try:\n",
    "    while not lim_inferior <= entrada <= lim_superior:\n",
    "        entrada = float(input(f\"Digite um valor entre {lim_inferior} e {lim_superior}: \"))\n",
    "        if lim_inferior <= entrada <= lim_superior:\n",
    "            print(f\"número correto digitado: {entrada}\")\n",
    "        lista_valores.append(entrada)\n",
    "\n",
    "    print(f\"Outros valores: {lista_valores[:-1]}\")\n",
    "\n",
    "except ValueError as e:\n",
    "    print(\"O valor digitado deve ser um número.\")\n",
    "    print(e)"
   ]
  },
  {
   "cell_type": "markdown",
   "metadata": {},
   "source": [
    "##### 13. Consumo de API Simulado\n",
    "Objetivo: Simular o consumo de uma API paginada, onde cada \"página\" de dados é processada em loop até que não haja mais páginas."
   ]
  },
  {
   "cell_type": "code",
   "execution_count": 10,
   "metadata": {},
   "outputs": [
    {
     "name": "stdout",
     "output_type": "stream",
     "text": [
      "Processando página 1 de 5\n",
      "Processando página 2 de 5\n",
      "Processando página 3 de 5\n",
      "Processando página 4 de 5\n",
      "Processando página 5 de 5\n",
      "Todas as páginas foram processadas.\n"
     ]
    }
   ],
   "source": [
    "pagina_atual = 1\n",
    "paginas_totais = 5  # Simulação, na prática, isso viria da API\n",
    "\n",
    "while pagina_atual <= paginas_totais:\n",
    "    print(f\"Processando página {pagina_atual} de {paginas_totais}\")\n",
    "    # Aqui iria o código para processar os dados da página\n",
    "    pagina_atual += 1\n",
    "\n",
    "print(\"Todas as páginas foram processadas.\")"
   ]
  },
  {
   "cell_type": "markdown",
   "metadata": {},
   "source": [
    "##### 14. Tentativas de Conexão\n",
    "Objetivo: Simular tentativas de reconexão a um serviço com um limite máximo de tentativas."
   ]
  },
  {
   "cell_type": "code",
   "execution_count": null,
   "metadata": {},
   "outputs": [
    {
     "name": "stdout",
     "output_type": "stream",
     "text": [
      "1\n",
      "2\n",
      "3\n",
      "4\n",
      "5\n",
      "6\n",
      "7\n",
      "8\n",
      "9\n",
      "10\n",
      "Falha na conexão\n"
     ]
    }
   ],
   "source": [
    "tentativas_maximas = 10\n",
    "tentativa = 1\n",
    "\n",
    "while tentativa <= tentativas_maximas:\n",
    "    # código com tentativa de conexão\n",
    "    if True: #simulação de caso a conexão seja bem-sucedida\n",
    "        print(\"Conexão bem sucedida!\")\n",
    "        break\n",
    "    print(tentativa)\n",
    "    tentativa += 1\n",
    "\n",
    "else:\n",
    "    print(\"Falha na conexão\") \n"
   ]
  },
  {
   "cell_type": "markdown",
   "metadata": {},
   "source": [
    "##### 15. Processamento de Dados com Condição de Parada\n",
    "Objetivo: Processar itens de uma lista até encontrar um valor específico que indica a parada."
   ]
  },
  {
   "cell_type": "code",
   "execution_count": 1,
   "metadata": {},
   "outputs": [
    {
     "name": "stdout",
     "output_type": "stream",
     "text": [
      "processando item: 1\n",
      "processando item: 2\n",
      "processando item: 3\n",
      "processando item: 4\n",
      "processando item: 5\n",
      "Para encontrada, o programa será encerrado.\n"
     ]
    }
   ],
   "source": [
    "lista = [1,2,3,4,5,'stop',6,5,9,8]\n",
    "\n",
    "contador = 0\n",
    "while contador <= len(lista):\n",
    "    if lista[contador] == 'stop':\n",
    "        print(\"Para encontrada, o programa será encerrado.\")\n",
    "        break\n",
    "    # Processa o item\n",
    "    print(f\"processando item: {lista[contador]}\")\n",
    "    contador += 1"
   ]
  },
  {
   "cell_type": "code",
   "execution_count": null,
   "metadata": {},
   "outputs": [],
   "source": [
    "itens = [1, 2, 3, \"parar\", 4, 5]\n",
    "\n",
    "i = 0\n",
    "while i < len(itens):\n",
    "    if itens[i] == \"parar\":\n",
    "        print(\"Parada encontrada, encerrando o processamento.\")\n",
    "        break\n",
    "    # Processa o item\n",
    "    print(f\"Processando item: {itens[i]}\")\n",
    "    i += 1"
   ]
  },
  {
   "cell_type": "markdown",
   "metadata": {},
   "source": [
    "##### Desafio\n",
    "\n",
    "Integre na solução anterior um fluxo de While que repita o fluxo até que o usuário insira as informações corretas"
   ]
  },
  {
   "cell_type": "code",
   "execution_count": 2,
   "metadata": {},
   "outputs": [
    {
     "name": "stdout",
     "output_type": "stream",
     "text": [
      "Nome válido:  Fernando Santos Barbosa\n",
      "salário válido\n",
      "Fernando Santos Barbosa, seu salário é R$15000.00 e você receberá 600001000.00 ao total.\n"
     ]
    }
   ],
   "source": [
    "nome_valido = False\n",
    "salario_valido = False\n",
    "bonus_valido = False\n",
    "adicional = 1000\n",
    "\n",
    "while not nome_valido:\n",
    "\n",
    "    try:\n",
    "        nome = input(\"Digite o seu nome completo.\")\n",
    "        if len(nome) == 0:\n",
    "            raise ValueError(\"O nome não pode estar vazio.\")\n",
    "        elif any(char.isdigit() for char in nome):\n",
    "            raise ValueError(\"O nome não pode conter dígitos\")\n",
    "        else:\n",
    "            print(\"Nome válido: \", nome)\n",
    "            nome_valido = True\n",
    "    \n",
    "    except ValueError as e:\n",
    "        print(e)\n",
    "\n",
    "while not salario_valido:\n",
    "    try:\n",
    "        salario = float(input(\"digite o seu salário: \"))\n",
    "        if salario < 0:\n",
    "            print(\"Valor inválido. Digite um número positivo.\")\n",
    "        else:\n",
    "            print(\"salário válido\")\n",
    "            salario_valido = True\n",
    "    except ValueError as e:\n",
    "        print(e)\n",
    "\n",
    "\n",
    "while not bonus_valido:\n",
    "    try:\n",
    "        bonus = float(input(\"Digite o valor do seu bônus.\"))\n",
    "        if bonus < 0:\n",
    "            print(\"O valor não pode ser negativo.\")\n",
    "        else:\n",
    "            bonus_valido = True\n",
    "    except ValueError:\n",
    "        print(\"Entrada inválida para o bônus. Por favor, digite um número.\")\n",
    "\n",
    "valor_total = adicional + salario + bonus\n",
    "\n",
    "print(f\"{nome}, seu salário é R${salario:.2f} e você receberá {valor_total:.2f} ao total.\")"
   ]
  }
 ],
 "metadata": {
  "kernelspec": {
   "display_name": "Python 3",
   "language": "python",
   "name": "python3"
  },
  "language_info": {
   "codemirror_mode": {
    "name": "ipython",
    "version": 3
   },
   "file_extension": ".py",
   "mimetype": "text/x-python",
   "name": "python",
   "nbconvert_exporter": "python",
   "pygments_lexer": "ipython3",
   "version": "3.13.1"
  }
 },
 "nbformat": 4,
 "nbformat_minor": 2
}
